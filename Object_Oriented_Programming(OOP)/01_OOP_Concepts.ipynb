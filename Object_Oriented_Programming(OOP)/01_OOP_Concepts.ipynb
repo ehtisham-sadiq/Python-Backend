{
 "cells": [
  {
   "cell_type": "markdown",
   "id": "b5eeae38-98a5-4515-8a72-c9d8adfe5e4c",
   "metadata": {},
   "source": [
    "# Python OOPs Concepts"
   ]
  },
  {
   "cell_type": "markdown",
   "id": "46affbf7-7a85-476d-aa45-3d24519e02c3",
   "metadata": {},
   "source": [
    "## Learning Agenda of this Notebook\n",
    "- **Object Oriented Programming(what, why, How)**\n",
    "    - Class\n",
    "    - Object\n",
    "    - Class Constructor\n",
    "    - Instance Variables and Methods\n",
    "    - Object Method\n",
    "    - Object Default Methods\n",
    "- **Pillars of OOP**\n",
    "    - **Inheritance**\n",
    "        - Why(Use-Cases)?\n",
    "        - Types\n",
    "        - Overriding Parent Method\n",
    "    - **Encapsulation**\n",
    "    - **Polymorphism**\n",
    "    - **Data Hiding**\n",
    "    - **Design Patterns**\n",
    "    "
   ]
  },
  {
   "cell_type": "markdown",
   "id": "b29492aa-bd6d-4bc4-910f-ac51afccfc19",
   "metadata": {},
   "source": [
    "## Object-Oriented Programming\n",
    "\n",
    "Python is a multi-paradigm programming language. It supports different programming approaches.\n",
    "One popular approach to solving a programming problem is by creating objects and classes. This is known as Object-Oriented Programming (OOP). Major pillars of `Object Oriented Programming (OOP)` are Inheritance, Polymorphism, Abstraction, ad Encapsulation.\n",
    "\n",
    "> Object Oriented Analysis(OOA) is the process of examining a problem, system, or task and identifying the objects and interactions between them.\n",
    "\n",
    "\n",
    "<div style=\"text-align: center;\">\n",
    "    <img src=\"https://miro.medium.com/v2/resize:fit:1400/1*KRa8SkP7T646zokicYSqyQ.png\" height=\"500px\" width=\"500px\">\n",
    "</div>\n",
    "\n",
    "\n",
    "- **Encapsulation:** Wrapping data (attributes) and methods (functions) into a single unit or class.\n",
    "    - A Car class with attributes like speed and methods like drive() keeps all related data and behavior together.\n",
    "- **Abstraction:** Hiding complex details and showing only the essential features of an object.\n",
    "    - A Car class hides internal engine workings but provides a simple start() method to the user.\n",
    "- **Inheritance:** A way for one class to acquire properties and methods of another class.\n",
    "    - A ElectricCar class inherits from the Car class, gaining its attributes like speed and methods like drive().\n",
    "- **Polymorphism:** The ability of different objects to be used through the same interface, often by method overriding.\n",
    "    - A drive() method works for both Car and ElectricCar, but each may have different behaviors."
   ]
  },
  {
   "cell_type": "markdown",
   "id": "16ca5d7e-233e-4d9b-a5ed-4c0b7cb05549",
   "metadata": {},
   "source": [
    "#### Why Choose ObjectOriented Programming?\n",
    "\n",
    "Python was designed with an object-oriented approach. OOP offers the following\n",
    "advantages:\n",
    "- Provides a clear program structure, which makes it easy to map real-world problems and their solutions.\n",
    "- Facilitates easy maintenance and modification of existing code.\n",
    "- Enhances program modularity because each object exists independently and new features can be added easily without disturbing the existing ones.\n",
    "- Presents a good framework for code libraries where supplied components can be easily adapted and modified by the programmer.\n",
    "- Imparts code reusability."
   ]
  },
  {
   "cell_type": "markdown",
   "id": "10f99e3f-f7bb-48f8-a7d8-347c25a3088a",
   "metadata": {},
   "source": [
    "#### Procedural vs. Object Oriented Programming\n",
    "\n",
    "- `Procedural-based programming` is derived from structural programming based on the concepts of `functions/procedures/routines`. It is easy to access and change the data in procedural-oriented programming. \n",
    "- `Object Oriented Programming(OOP)` allows the decomposition of a problem into several units called objects and then builds the data and functions around these objects. It emphasizes more on the data than procedure or functions. Also in OOP, data is hidden and cannot be accessed by external procedures.\n",
    "\n",
    "\n",
    "<div style=\"text-align: center;\">\n",
    "    <img src=\"https://www.boardinfinity.com/blog/content/images/2023/01/Procedural-and-OOPs.png\" height=\"500px\" width=\"500px\">\n",
    "</div>"
   ]
  },
  {
   "cell_type": "code",
   "execution_count": null,
   "id": "a4195290-04c8-4439-a949-4e50dbe3ed46",
   "metadata": {},
   "outputs": [],
   "source": []
  },
  {
   "cell_type": "markdown",
   "id": "5f45dc83-0ae3-4d00-8af5-0936ada149ce",
   "metadata": {},
   "source": [
    "**Object-oriented programming (OOP)** is a programming paradigm based on the concept of **“objects”**. The object contains both data and code: Data in the form of properties (often known as attributes), and code, in the form of methods (actions object can perform).\n",
    "\n",
    "An object has two characteristics:\n",
    "\n",
    "* attributes\n",
    "* behavior\n",
    "\n",
    "**For example:**\n",
    "\n",
    "A parrot can be an object, as it has the following properties:\n",
    "\n",
    "* name, age, and color as attributes\n",
    "* singing, and dancing as behavior\n",
    "\n",
    "> The concept of OOP in Python focuses on creating reusable code. This concept is also known as **DRY (Don't Repeat Yourself)**.\n",
    "\n",
    "In Python, the concept of OOP follows some basic principles:"
   ]
  },
  {
   "cell_type": "code",
   "execution_count": null,
   "id": "e949ade2-c7bf-4b2a-8dc2-fa6904d10092",
   "metadata": {},
   "outputs": [],
   "source": []
  },
  {
   "cell_type": "markdown",
   "id": "19d93a67-4b73-4570-b4bf-82d2dff9acd9",
   "metadata": {},
   "source": [
    "## Class \n",
    "\n",
    "In Python, everything is an object. **A class is a blueprint for the object**. To create an object we require a model or plan or blueprint which is nothing but class."
   ]
  },
  {
   "cell_type": "code",
   "execution_count": null,
   "id": "81f30e04-2f5d-4be9-97a4-75d5a1ef4099",
   "metadata": {},
   "outputs": [],
   "source": [
    "first_name = \"Ehtisham\"\n",
    "last_name = \"Sadiq\"\n",
    "city = \"Okara\"\n",
    "country = \"Pakistan\"\n",
    "print(type(first_name))"
   ]
  },
  {
   "cell_type": "code",
   "execution_count": 5,
   "id": "3a0e6489-001e-4012-bf7f-73dc49d4f351",
   "metadata": {},
   "outputs": [],
   "source": [
    "# df = pd.read_csv(\"file.csv\")\n",
    "# df."
   ]
  },
  {
   "cell_type": "code",
   "execution_count": null,
   "id": "0be89337-b23f-4dc3-adab-c4b02b39b1c0",
   "metadata": {},
   "outputs": [],
   "source": [
    "# upper()"
   ]
  },
  {
   "cell_type": "markdown",
   "id": "34184af2-e34f-4af0-a703-1b58b4214eca",
   "metadata": {
    "jp-MarkdownHeadingCollapsed": true
   },
   "source": [
    "We create a class to create an object. A class is like an object constructor or a **blueprint** for creating objects. We instantiate a class to create an object. The class defines attributes and the object's behavior, while the object, on the other hand, represents the class.\n",
    "\n",
    "**Class represents the properties (attribute) and action (behavior) of the object. Properties represent variables, and actions are represented by the methods. Hence class contains both variables and methods.**\n",
    "\n",
    "We can think of a class as a sketch of a parrot with labels. It contains all the details about the name, colors, size, etc. Based on these descriptions, we can study about the parrot. Here, a parrot is an object.\n",
    "\n",
    "**Syntax:**\n",
    "\n",
    "```python\n",
    "class classname:\n",
    "    '''documentation string'''\n",
    "    class_suite\n",
    "```\n",
    "* **Documentation string:** represents a description of the class. It is optional.\n",
    "* **class_suite:** class suite contains component statements, variables, methods, functions, attributes.\n",
    "\n",
    "An example for a class of parrots can be :\n",
    "\n",
    "```python\n",
    "class Parrot:\n",
    "    pass\n",
    "```\n",
    "\n",
    "Here, we use the **`class`** keyword to define an empty class **`Parrot`**. From class, we construct instances. An instance is a specific object created from a particular class.\n",
    "\n",
    "```python\n",
    "class Person:\n",
    "    pass\n",
    "print(Person)\n",
    "```"
   ]
  },
  {
   "cell_type": "code",
   "execution_count": 4,
   "id": "0e169ebb-46b2-4fb9-bfdc-abf22637db47",
   "metadata": {},
   "outputs": [],
   "source": [
    "# Creating a class\n",
    "\n",
    "class Person:\n",
    "    pass"
   ]
  },
  {
   "cell_type": "code",
   "execution_count": null,
   "id": "12041b7c-04cd-4da0-8df9-d199004509a7",
   "metadata": {},
   "outputs": [],
   "source": [
    "print(Person)"
   ]
  },
  {
   "cell_type": "code",
   "execution_count": 9,
   "id": "00f2c5ee-eece-409e-823b-4341340e0465",
   "metadata": {},
   "outputs": [],
   "source": [
    "# # Example of Function\n",
    "# def func(name):\n",
    "#     return name\n",
    "# # Example of Class\n",
    "# class Person:\n",
    "#     pass"
   ]
  },
  {
   "cell_type": "markdown",
   "id": "64ae4d73-93a6-42f4-b48e-23af63941641",
   "metadata": {},
   "source": [
    "## Object \n",
    "\n",
    "The physical existence of a class is nothing but an object. In other words, the object is an entity that has a state(attribute) and behavior(action). \n",
    "\n",
    "Therefore, `an object (instance) is an instantiation of a class`. So, when class is defined, only the description for the object is defined. Therefore, no memory or storage is allocated.\n",
    "\n",
    "**Syntax:**\n",
    "\n",
    "```python\n",
    "reference_variable = classname()\n",
    "```\n",
    "\n",
    "The example for the object of the parrot class can be:\n",
    "\n",
    "```python\n",
    "obj = Parrot()\n",
    "```\n",
    "\n",
    "Here, **`obj`** is an **`object`** of class Parrot.\n",
    "\n",
    "Suppose we have details of parrots. Now, we are going to show how to build the class and objects of parrots.\n",
    "\n",
    "```python\n",
    "p = Person()\n",
    "print(p)\n",
    "```"
   ]
  },
  {
   "cell_type": "code",
   "execution_count": 6,
   "id": "a0ef7827-2e38-403a-9cc8-dc1ffa118932",
   "metadata": {},
   "outputs": [],
   "source": [
    "# Example 1: We can create an object by calling the class\n",
    "\n",
    "class Person:\n",
    "    pass\n",
    "\n",
    "# creating an object of class\n",
    "p = Person()"
   ]
  },
  {
   "cell_type": "code",
   "execution_count": null,
   "id": "f5b30fd0-084b-4310-bbcf-fecce36477cd",
   "metadata": {},
   "outputs": [],
   "source": [
    "print(p)"
   ]
  },
  {
   "cell_type": "code",
   "execution_count": 8,
   "id": "f33acba0-b7ff-433d-b20f-8102392f8ec5",
   "metadata": {},
   "outputs": [],
   "source": [
    "# Example 2: Creating Class and Object in Python\n",
    "\n",
    "class Student:\n",
    "    \"\"\"This is student class with data\"\"\"    \n",
    "    def learn(self):    # A sample method\n",
    "        print(\"Welcome to class on Python Programming\")"
   ]
  },
  {
   "cell_type": "code",
   "execution_count": 9,
   "id": "ac7038c9-6ce3-4cad-888c-08026b828b92",
   "metadata": {},
   "outputs": [],
   "source": [
    "stud = Student()        # creating object"
   ]
  },
  {
   "cell_type": "code",
   "execution_count": null,
   "id": "cdc903cc-a3b7-48cd-857e-40720753f643",
   "metadata": {},
   "outputs": [],
   "source": [
    "stud"
   ]
  },
  {
   "cell_type": "code",
   "execution_count": null,
   "id": "3267f0fd-71dc-443f-bf9f-6a1f7cf36006",
   "metadata": {},
   "outputs": [],
   "source": [
    "stud.learn()            # Calling method\n",
    "\n",
    "# Output: Welcome to  class on Python Programming"
   ]
  },
  {
   "cell_type": "markdown",
   "id": "7044d2eb-ee44-46b3-9819-c32f93fd570e",
   "metadata": {},
   "source": [
    "## Class Constructor\n",
    "\n",
    "In the examples above, we have created an object from the **`Person`** class. However, a class without a constructor is not really useful in real applications. Let us use constructor function to make our class more useful. Like the constructor function in Java or JavaScript, Python has also a built-in **`__init__()`** constructor function. The **`__init__()`** constructor function has **`self`** parameter which is a reference to the current instance of the class."
   ]
  },
  {
   "cell_type": "code",
   "execution_count": 12,
   "id": "7b70d05e-2f68-4e07-899e-319b4b572430",
   "metadata": {},
   "outputs": [],
   "source": [
    "class Person:\n",
    "      def __init__ (self):\n",
    "          print(\"This is a constructor of Person Class\")"
   ]
  },
  {
   "cell_type": "code",
   "execution_count": null,
   "id": "81527516-7fa5-4908-9df0-41b490ab708a",
   "metadata": {},
   "outputs": [],
   "source": [
    "p = Person()"
   ]
  },
  {
   "cell_type": "code",
   "execution_count": 15,
   "id": "0e5f7eab-7a7d-43f2-84c3-bd1756a0f5f3",
   "metadata": {},
   "outputs": [],
   "source": [
    "class Person:\n",
    "      def __init__ (self, name):\n",
    "        # self allows to attach parameter to the class\n",
    "          self.name = name # name is a instance variable of class\n",
    "          print(\"This is a constructor of Person Class\")"
   ]
  },
  {
   "cell_type": "code",
   "execution_count": null,
   "id": "dcdd3abd-66ad-4106-a230-4ca5851a6157",
   "metadata": {},
   "outputs": [],
   "source": [
    "p = Person('Ehtisham')"
   ]
  },
  {
   "cell_type": "code",
   "execution_count": null,
   "id": "12cd63d3-36e8-48b2-97f1-e31d2189a878",
   "metadata": {},
   "outputs": [],
   "source": [
    "print(p.name)\n",
    "print(p)"
   ]
  },
  {
   "cell_type": "markdown",
   "id": "e41e1619-eec6-4f16-bdf7-9ad196bf86c7",
   "metadata": {},
   "source": [
    "#### Creating a object without pass value for name paramter"
   ]
  },
  {
   "cell_type": "code",
   "execution_count": null,
   "id": "4360a811-9d25-4721-aa9e-aa2bf3122cd5",
   "metadata": {},
   "outputs": [],
   "source": [
    "p1 = Person()"
   ]
  },
  {
   "cell_type": "code",
   "execution_count": null,
   "id": "a4a8d402-0cf0-4109-a971-b3acc7b1d6cb",
   "metadata": {},
   "outputs": [],
   "source": [
    "p1 = Person(\"Ehtisham\", \"Ali\")"
   ]
  },
  {
   "cell_type": "code",
   "execution_count": null,
   "id": "0a89793e-6294-4610-a112-e46b44dcd0d5",
   "metadata": {},
   "outputs": [],
   "source": [
    "class Person:\n",
    "      def __init__ (self, name=None):\n",
    "        # self allows to attach parameter to the class\n",
    "          self.name = name # name is an instance variable of class\n",
    "          print(\"This is a constructor of Person Class\")\n",
    "p2 = Person()\n",
    "p3 = Person(\"Ali\")"
   ]
  },
  {
   "cell_type": "code",
   "execution_count": null,
   "id": "45118ac0-ae1d-4d9f-a471-4ef859fa3395",
   "metadata": {},
   "outputs": [],
   "source": [
    "p2.name, p3.name"
   ]
  },
  {
   "cell_type": "code",
   "execution_count": null,
   "id": "3c92d398-b442-4cef-b82f-864d922679a9",
   "metadata": {},
   "outputs": [],
   "source": []
  },
  {
   "cell_type": "markdown",
   "id": "cfaaa9df-7263-48e3-9f0c-80814f168ff4",
   "metadata": {},
   "source": [
    "Let us add more parameters to the constructor function."
   ]
  },
  {
   "cell_type": "code",
   "execution_count": null,
   "id": "c75bdc87-7432-4273-bfa6-35d136f73533",
   "metadata": {},
   "outputs": [],
   "source": [
    "# Example 1: add more parameters to the constructor function.\n",
    "\n",
    "class Person:\n",
    "      def __init__(self, firstname, lastname, age, country, city):\n",
    "            self.firstname = firstname # instance variables\n",
    "            self.lastname = lastname # instance variables\n",
    "            self.age = age # instance variables\n",
    "            self.country = country # instance variables\n",
    "            self.city = city # instance variables\n",
    "      def hello_msg(self): # instance method\n",
    "          print(f\"Hello! {self.firstname, self.lastname} to learning OOP.\")\n",
    "\n",
    "\n",
    "    \n",
    "p1 = Person('Ehtisham', 'Sadiq', 23, 'Pakistan', 'Okara')\n",
    "p1.hello_msg()"
   ]
  },
  {
   "cell_type": "code",
   "execution_count": null,
   "id": "38cf1b09-2ad3-4ae0-b837-9dab07585586",
   "metadata": {},
   "outputs": [],
   "source": []
  },
  {
   "cell_type": "code",
   "execution_count": null,
   "id": "f506026a-f934-45ab-97b3-07b3a6706f7e",
   "metadata": {},
   "outputs": [],
   "source": [
    "print(p1.firstname)\n",
    "print(p1.lastname)\n",
    "print(p1.age)\n",
    "print(p1.country)\n",
    "print(p1.city)"
   ]
  },
  {
   "cell_type": "markdown",
   "id": "2681c088-cc5a-4ee1-a181-3be438b0d415",
   "metadata": {},
   "source": [
    "#### Assigning value to the instance variable outside of the class"
   ]
  },
  {
   "cell_type": "code",
   "execution_count": null,
   "id": "fe96da26-22bb-40f0-8db9-14a26c51114c",
   "metadata": {},
   "outputs": [],
   "source": [
    "# Example 1: add more parameters to the constructor function.\n",
    "\n",
    "class Person:\n",
    "      def __init__(self, firstname, lastname, age, country, city=None):\n",
    "            self.firstname = firstname # instance variables\n",
    "            self.lastname = lastname # instance variables\n",
    "            self.age = age # instance variables\n",
    "            self.country = country # instance variables\n",
    "            self.city = city # instance variables\n",
    "      def hello_msg(self): # instance method\n",
    "          print(f\"Hello! {self.firstname} welcome to learning OOP. He belongs to {self.city}.\")\n",
    "\n",
    "\n",
    "    \n",
    "p1 = Person('Ehtisham', 'Sadiq', 23, 'Pakistan')\n",
    "p1.hello_msg()"
   ]
  },
  {
   "cell_type": "code",
   "execution_count": 26,
   "id": "e710f835-cf72-4353-a08d-efdb0a2cbb40",
   "metadata": {},
   "outputs": [],
   "source": [
    "p1.city = \"Okara\""
   ]
  },
  {
   "cell_type": "code",
   "execution_count": null,
   "id": "f14b76f3-17e2-4c80-9aa9-5956cd4e7140",
   "metadata": {},
   "outputs": [],
   "source": [
    "p1.hello_msg()"
   ]
  },
  {
   "cell_type": "code",
   "execution_count": null,
   "id": "2717d852-3b65-4ac7-ba79-60cf795f4600",
   "metadata": {},
   "outputs": [],
   "source": []
  },
  {
   "cell_type": "code",
   "execution_count": null,
   "id": "bf11ebe2-717e-4491-9b12-485812038155",
   "metadata": {},
   "outputs": [],
   "source": []
  },
  {
   "cell_type": "code",
   "execution_count": null,
   "id": "a5994b7e-a028-41f8-86d6-e0b62336731a",
   "metadata": {},
   "outputs": [],
   "source": []
  },
  {
   "cell_type": "markdown",
   "id": "74d056e2-91a0-4922-885d-620ab379e734",
   "metadata": {},
   "source": [
    "## Instance Variables and Methods\n",
    "\n",
    "If the value of a variable varies from object to object, then such variables are called instance variables. For every object, a separate copy of the instance variable will be created.\n",
    "\n",
    "When we create classes in Python, instance methods are used regularly. we need to create an object to execute the block of code or action defined in the instance method.\n",
    "\n",
    "**Note: We can access instance methods in other instance methods using self keywords.**\n",
    "\n",
    "We can access the instance variable and methods using the object. Use dot (**`.`**) operator to access instance variables and methods.\n",
    "\n",
    "In Python, working with an instance variable and method, we use the **`self`** keyword. When we use the **`self`** keyword as a parameter to a method or with a variable name is called the instance itself.\n",
    "\n",
    ">**Note:** Instance variables are used within the instance method"
   ]
  },
  {
   "cell_type": "code",
   "execution_count": 6,
   "id": "01e6c354-702b-41f9-8d60-3b4ff2c3b0ee",
   "metadata": {},
   "outputs": [],
   "source": [
    "# Example 2: Creating Class and Object in Python\n",
    "\n",
    "class Student:\n",
    "    def __init__(self, name, percentage):\n",
    "        self.name = name\n",
    "        self.percentage = percentage\n",
    "\n",
    "    def show(self):\n",
    "        print(\"Name is:\", self.name, \"and the percentage is:\", self.percentage)"
   ]
  },
  {
   "cell_type": "code",
   "execution_count": 7,
   "id": "6e071b03-8937-4c8d-8ed8-7044d54b05ac",
   "metadata": {},
   "outputs": [],
   "source": [
    "stud = Student(\"Ehtisham\", 90)"
   ]
  },
  {
   "cell_type": "code",
   "execution_count": 8,
   "id": "29920de6-91b3-4864-b3e0-71aa274076dc",
   "metadata": {},
   "outputs": [
    {
     "name": "stdout",
     "output_type": "stream",
     "text": [
      "Name is: Ehtisham and the percentage is: 90\n"
     ]
    }
   ],
   "source": [
    "stud.show()   \n",
    "\n",
    "# Output Name is: Ehtisham and percentage is: 90"
   ]
  },
  {
   "cell_type": "markdown",
   "id": "24bcb195-27b8-4376-9c57-f573c37874db",
   "metadata": {},
   "source": [
    "<img src=\"images/intro.png\">"
   ]
  },
  {
   "cell_type": "code",
   "execution_count": 9,
   "id": "a590c8c5-9d09-44e4-92aa-4f72b258e9dc",
   "metadata": {},
   "outputs": [],
   "source": [
    "# Example 3: Creating Class and Object in Python\n",
    "\n",
    "class Parrot:\n",
    "    species = \"bird\"                    # class attribute(class variables)\n",
    "    def __init__(self, name, age):      # instance attribute (instance variables)\n",
    "        self.name = name\n",
    "        self.age = age"
   ]
  },
  {
   "cell_type": "code",
   "execution_count": 10,
   "id": "13629ca5-9c3d-486e-8c3d-fc030e136dc6",
   "metadata": {},
   "outputs": [],
   "source": [
    "# instantiate the Parrot class\n",
    "blu = Parrot(\"Blu\", 10)\n",
    "woo = Parrot(\"Woo\", 15)"
   ]
  },
  {
   "cell_type": "code",
   "execution_count": 11,
   "id": "8e5f7a6a-5049-46bf-9a58-2d110cb4ccb5",
   "metadata": {},
   "outputs": [
    {
     "data": {
      "text/plain": [
       "('Blu', 10)"
      ]
     },
     "execution_count": 11,
     "metadata": {},
     "output_type": "execute_result"
    }
   ],
   "source": [
    "blu.name, blu.age"
   ]
  },
  {
   "cell_type": "code",
   "execution_count": 12,
   "id": "3a8062e8-627d-4e16-850a-56376e013fd2",
   "metadata": {},
   "outputs": [
    {
     "data": {
      "text/plain": [
       "'bird'"
      ]
     },
     "execution_count": 12,
     "metadata": {},
     "output_type": "execute_result"
    }
   ],
   "source": [
    "blu.species"
   ]
  },
  {
   "cell_type": "code",
   "execution_count": 14,
   "id": "fecd6328-9110-48a9-b459-bda44623eb44",
   "metadata": {},
   "outputs": [
    {
     "name": "stdout",
     "output_type": "stream",
     "text": [
      "Blu is a bird\n",
      "Woo is also a bird\n"
     ]
    }
   ],
   "source": [
    "# access the class attributes\n",
    "print(\"Blu is a {}\".format(blu.__class__.species))\n",
    "print(\"Woo is also a {}\".format(woo.__class__.species))"
   ]
  },
  {
   "cell_type": "code",
   "execution_count": 15,
   "id": "0405b2f7-1bd2-42dd-8dab-c8d5986a3dc4",
   "metadata": {},
   "outputs": [
    {
     "name": "stdout",
     "output_type": "stream",
     "text": [
      "Blu is 10 years old\n",
      "Woo is 15 years old\n"
     ]
    }
   ],
   "source": [
    "# access the instance attributes\n",
    "print(\"{} is {} years old\".format( blu.name, blu.age))\n",
    "print(\"{} is {} years old\".format( woo.name, woo.age))"
   ]
  },
  {
   "cell_type": "code",
   "execution_count": null,
   "id": "085ac37b-8b2e-4a42-be4d-687052cce97f",
   "metadata": {},
   "outputs": [],
   "source": []
  },
  {
   "cell_type": "code",
   "execution_count": null,
   "id": "eabd2e06-3e72-4d9f-bd5a-77b07abb1a7a",
   "metadata": {},
   "outputs": [],
   "source": []
  },
  {
   "cell_type": "markdown",
   "id": "89c60989-6509-46a9-aca1-0d1bbfd3719b",
   "metadata": {},
   "source": [
    "**Explanation**:\n",
    "\n",
    "In the above program, we created a class with the name **`Parrot`**. Then, we define attributes. The attributes are a characteristics of an object.\n",
    "\n",
    "These attributes are defined inside the **`__init__`** method of the class. It is the initializer method that is first run as soon as the object is created.\n",
    "\n",
    "Then, we create instances of the **`Parrot`** class. Here, **`blu`** and **`woo`** are references (value) to our new objects.\n",
    "\n",
    "We can access the class attribute using **`__class__.species`**. Class attributes are the same for all instances(objects) of a class. Similarly, we access the instance attributes using **`blu.name`** and **`blu.age`**. However, instance attributes are different for every instance of a class."
   ]
  },
  {
   "cell_type": "code",
   "execution_count": null,
   "id": "3f716676-cdd0-4589-a7bf-74fcd0a50b0e",
   "metadata": {},
   "outputs": [],
   "source": []
  },
  {
   "cell_type": "markdown",
   "id": "ebb17042-b056-4d18-be61-8d965cb71dc8",
   "metadata": {},
   "source": [
    "### Modify the Value of Class Attribute or Class variable using Object(Instance) of the Class"
   ]
  },
  {
   "cell_type": "code",
   "execution_count": 16,
   "id": "141cefd4-5548-4f79-93f6-9b8d2d208b51",
   "metadata": {},
   "outputs": [
    {
     "name": "stdout",
     "output_type": "stream",
     "text": [
      "The value of species is bird\n"
     ]
    }
   ],
   "source": [
    "class Bird:\n",
    "    species = \"bird\"\n",
    "\n",
    "blu = Bird()\n",
    "print(f\"The value of species is {blu.__class__.species}\")"
   ]
  },
  {
   "cell_type": "code",
   "execution_count": 17,
   "id": "1fa5bd69-5cab-41da-8710-79ede715f552",
   "metadata": {},
   "outputs": [],
   "source": [
    "blu.__class__.species = \"animal\""
   ]
  },
  {
   "cell_type": "code",
   "execution_count": 18,
   "id": "d353e3af-75b6-4d2f-9760-7d0137e2c694",
   "metadata": {},
   "outputs": [
    {
     "name": "stdout",
     "output_type": "stream",
     "text": [
      "The value of species is animal\n"
     ]
    }
   ],
   "source": [
    "print(f\"The value of species is {blu.__class__.species}\")"
   ]
  },
  {
   "cell_type": "markdown",
   "id": "14b92d92-a16f-4021-9a97-6fd669c23175",
   "metadata": {},
   "source": [
    "**Test Yourself**"
   ]
  },
  {
   "cell_type": "code",
   "execution_count": 19,
   "id": "fbd66ee6-fd89-47e3-83f3-80ca55a470e9",
   "metadata": {},
   "outputs": [
    {
     "name": "stdout",
     "output_type": "stream",
     "text": [
      "The value of species is animal\n"
     ]
    }
   ],
   "source": [
    "woo = Bird()\n",
    "print(f\"The value of species is {woo.__class__.species}\")"
   ]
  },
  {
   "cell_type": "code",
   "execution_count": null,
   "id": "ea0455e0-c089-4970-b771-ca55129e0514",
   "metadata": {},
   "outputs": [],
   "source": []
  },
  {
   "cell_type": "code",
   "execution_count": null,
   "id": "e6c632b6-0ca8-47e8-a214-7fc96a5738e0",
   "metadata": {},
   "outputs": [],
   "source": []
  },
  {
   "cell_type": "markdown",
   "id": "4ffb1f25-d4d0-4196-b3cb-54fce43a1357",
   "metadata": {},
   "source": [
    "### Passing Values for variables without using Constructor instance variables?"
   ]
  },
  {
   "cell_type": "code",
   "execution_count": 20,
   "id": "8f8643af-8a51-4c6b-8d8f-0a43d6a57830",
   "metadata": {},
   "outputs": [],
   "source": [
    "class Student:\n",
    "    def __init__(self, name, roll, marks):\n",
    "        self.name = name\n",
    "        self.roll = roll\n",
    "        self.marks = marks\n",
    "        self.percentage = None\n",
    "\n",
    "    def get_details(self):\n",
    "        print(f\"Student: {self.name} has {self.marks} marks in English.\")\n",
    "\n",
    "    def is_eligible_for_scholarship(self, percentage):\n",
    "        self.percentage = percentage\n",
    "        if percentage > 90:\n",
    "            print(f\"Student {self.name} is eligible for scholarship , beacuse he has {self.percentage}%.\")\n",
    "        else:\n",
    "            print(f\"Student {self.name} is not eligible for scholarship , beacuse he has {self.percentage}%.\")\n",
    "    \n",
    "    def get_marks_details(self):\n",
    "        print(f\"Student {self.name} has {self.marks} marks and {self.percentage}% in his exams.\")\n",
    "\n",
    "student1  = Student(\"Ehtisham\", 21, 80)"
   ]
  },
  {
   "cell_type": "code",
   "execution_count": 21,
   "id": "3df7136b-086e-4894-a3cc-3fe49c5b6ba6",
   "metadata": {},
   "outputs": [
    {
     "name": "stdout",
     "output_type": "stream",
     "text": [
      "Student: Ehtisham has 80 marks in English.\n"
     ]
    }
   ],
   "source": [
    "student1.get_details()"
   ]
  },
  {
   "cell_type": "code",
   "execution_count": 22,
   "id": "33aa9654",
   "metadata": {},
   "outputs": [
    {
     "ename": "TypeError",
     "evalue": "Student.is_eligible_for_scholarship() missing 1 required positional argument: 'percentage'",
     "output_type": "error",
     "traceback": [
      "\u001b[0;31m---------------------------------------------------------------------------\u001b[0m",
      "\u001b[0;31mTypeError\u001b[0m                                 Traceback (most recent call last)",
      "Cell \u001b[0;32mIn[22], line 1\u001b[0m\n\u001b[0;32m----> 1\u001b[0m \u001b[43mstudent1\u001b[49m\u001b[38;5;241;43m.\u001b[39;49m\u001b[43mis_eligible_for_scholarship\u001b[49m\u001b[43m(\u001b[49m\u001b[43m)\u001b[49m\n",
      "\u001b[0;31mTypeError\u001b[0m: Student.is_eligible_for_scholarship() missing 1 required positional argument: 'percentage'"
     ]
    }
   ],
   "source": [
    "student1.is_eligible_for_scholarship()"
   ]
  },
  {
   "cell_type": "code",
   "execution_count": 23,
   "id": "2a4c1292-a002-4cd5-a615-069862be29ae",
   "metadata": {},
   "outputs": [
    {
     "name": "stdout",
     "output_type": "stream",
     "text": [
      "Student Ehtisham is not eligible for scholarship , beacuse he has 82%.\n"
     ]
    }
   ],
   "source": [
    "student1.is_eligible_for_scholarship(82)"
   ]
  },
  {
   "cell_type": "code",
   "execution_count": 24,
   "id": "feabaaab-39a0-447e-adc9-275e60f9e042",
   "metadata": {},
   "outputs": [
    {
     "data": {
      "text/plain": [
       "82"
      ]
     },
     "execution_count": 24,
     "metadata": {},
     "output_type": "execute_result"
    }
   ],
   "source": [
    "student1.percentage"
   ]
  },
  {
   "cell_type": "code",
   "execution_count": 25,
   "id": "c805af2d-22c8-4ece-8774-f219567e3dd7",
   "metadata": {},
   "outputs": [
    {
     "name": "stdout",
     "output_type": "stream",
     "text": [
      "Student Ehtisham has 80 marks and 82% in his exams.\n"
     ]
    }
   ],
   "source": [
    "student1.get_marks_details()"
   ]
  },
  {
   "cell_type": "code",
   "execution_count": null,
   "id": "cd4de974-7d57-424a-b54a-2081bdcf2deb",
   "metadata": {},
   "outputs": [],
   "source": []
  },
  {
   "cell_type": "markdown",
   "id": "590915d1-9c42-4d6a-a108-230f96fe7430",
   "metadata": {},
   "source": [
    "# self in Python, Demystified\n",
    "\n",
    "If you have been programming in Python (object-oriented programming) for some time, then you have come across methods that have **`self`** as their first parameter.\n",
    "\n",
    "Let us first try to understand what this recurring **`self`** parameter is."
   ]
  },
  {
   "cell_type": "markdown",
   "id": "c32ca44c-b577-4c87-ba36-ec50c0d223a9",
   "metadata": {},
   "source": [
    "## What is `self` in Python?\n",
    "\n",
    "In object-oriented programming, whenever we define methods for a class, we use **`self`** as the first parameter in each case. Let's look at the definition of a class called **`Cat`**."
   ]
  },
  {
   "cell_type": "code",
   "execution_count": null,
   "id": "d3f01826-f1c1-400d-a3c4-6e3d9c35bfa9",
   "metadata": {},
   "outputs": [],
   "source": [
    "class Cat:\n",
    "    def __init__(self, name, age):\n",
    "        self.name = name # instance variables\n",
    "        self.age = age # instance variables\n",
    "\n",
    "    def info(self):\n",
    "        print(f\"I am a cat. My name is {self.name}. I am {self.age} years old.\")\n",
    "\n",
    "    def make_sound(self):\n",
    "        print(\"Meow\")"
   ]
  },
  {
   "cell_type": "markdown",
   "id": "29863762-6a21-4bcb-a4e8-2756e9e6e369",
   "metadata": {},
   "source": [
    "**Explanation:**\n",
    "\n",
    "In this case, all the methods, including **`__init__`**, have the first parameter as **`self`**.\n",
    "\n",
    "We know that class is a blueprint for the objects. This blueprint can be used to create multiple numbers of objects. Let's create two different objects from the above class.\n",
    "\n",
    "```python\n",
    "cat1 = Cat('Amelia', 3)\n",
    "cat2 = Cat('Bella', 6)\n",
    "```"
   ]
  },
  {
   "cell_type": "markdown",
   "id": "4a552ee5-f11e-48e8-baa1-a49b0cb919e9",
   "metadata": {},
   "source": [
    "The **`self`** keyword is used to represent an instance (object) of the given class. In this case, the two **`Cat`** objects **`cat1`** and **`cat2`** have their own **`name`** and **`age`** attributes. If there was no **`self`** argument, the same class couldn't hold the information for both these objects.\n",
    "\n",
    "However, since the class is just a blueprint, **`self`** allows access to the attributes and methods of each object in python. This allows each object to have its own attributes and methods. Thus, even long before creating these objects, we reference the objects as **`self`** while defining the class."
   ]
  },
  {
   "cell_type": "markdown",
   "id": "57bc5ed0-99bd-4125-96fa-584bb360b328",
   "metadata": {},
   "source": [
    "## Why is self explicitly defined everytime?\n",
    "\n",
    "Even when we understand the use of **`self`**, it may still seem odd, especially to programmers coming from other languages, that **`self`** is passed as a parameter explicitly every single time we define a method. As **The Zen of Python** goes, **\"Explicit is better than implicit\"**.\n",
    "\n",
    "So, why do we need to do this? Let's take a simple example to begin with. We have a **`Point`** class which defines a method **`distance`** to calculate the distance from the origin."
   ]
  },
  {
   "cell_type": "code",
   "execution_count": 26,
   "id": "0baf9c27-1156-4de6-ba49-5bc261c70f81",
   "metadata": {},
   "outputs": [],
   "source": [
    "class Point(object):\n",
    "    def __init__(self,x = 0,y = 0):\n",
    "        self.x = x\n",
    "        self.y = y\n",
    "    \n",
    "\n",
    "    def distance(self):\n",
    "        \"\"\"Find distance from origin\"\"\"\n",
    "        return (self.x**2 + self.y**2) ** 0.5"
   ]
  },
  {
   "cell_type": "markdown",
   "id": "f673e082-3e07-4b64-8e3d-dfd981083358",
   "metadata": {},
   "source": [
    "Let us now instantiate this class and find the distance."
   ]
  },
  {
   "cell_type": "code",
   "execution_count": 32,
   "id": "a8a88fc2-5e62-4748-9c55-b536a053d343",
   "metadata": {},
   "outputs": [],
   "source": [
    "p1 = Point(6,9)\n",
    "p2 = Point(5,4)"
   ]
  },
  {
   "cell_type": "code",
   "execution_count": 34,
   "id": "5cc5752f",
   "metadata": {},
   "outputs": [
    {
     "data": {
      "text/plain": [
       "(10.816653826391969, 6.4031242374328485)"
      ]
     },
     "execution_count": 34,
     "metadata": {},
     "output_type": "execute_result"
    }
   ],
   "source": [
    "Point.distance(p1), Point.distance(p2)"
   ]
  },
  {
   "cell_type": "code",
   "execution_count": 39,
   "id": "de30cd45",
   "metadata": {},
   "outputs": [
    {
     "data": {
      "text/plain": [
       "10.816653826391969"
      ]
     },
     "execution_count": 39,
     "metadata": {},
     "output_type": "execute_result"
    }
   ],
   "source": [
    "p1.distance() # Point.distance(p1)"
   ]
  },
  {
   "cell_type": "markdown",
   "id": "932f2bbf-1cc3-424a-ab41-7a145da49e8c",
   "metadata": {},
   "source": [
    "In the above example, **`__init__()`** defines three parameters but we just passed two (6 and 9). Similarly **`distance()`** requires one but zero arguments were passed. Why is Python not complaining about this argument number mismatch?"
   ]
  },
  {
   "cell_type": "markdown",
   "id": "1a855e6e-cda6-4555-b228-a7bb1c7c526c",
   "metadata": {},
   "source": [
    "## What Happens Internally?\n",
    "\n",
    "**`Point.distance`** and **`p1.distance`** in the above example are different and not exactly the same."
   ]
  },
  {
   "cell_type": "code",
   "execution_count": 38,
   "id": "c455fa4f-df33-468b-89a1-c46c42255777",
   "metadata": {},
   "outputs": [
    {
     "data": {
      "text/plain": [
       "function"
      ]
     },
     "execution_count": 38,
     "metadata": {},
     "output_type": "execute_result"
    }
   ],
   "source": [
    "type(Point.distance)"
   ]
  },
  {
   "cell_type": "code",
   "execution_count": 36,
   "id": "f70776fc-2273-44c8-bccc-5e2e5aabb061",
   "metadata": {},
   "outputs": [
    {
     "data": {
      "text/plain": [
       "method"
      ]
     },
     "execution_count": 36,
     "metadata": {},
     "output_type": "execute_result"
    }
   ],
   "source": [
    "type(p1.distance)"
   ]
  },
  {
   "cell_type": "code",
   "execution_count": null,
   "id": "f3fb1014-1524-425d-97b2-7e03f0976c4f",
   "metadata": {},
   "outputs": [],
   "source": []
  },
  {
   "cell_type": "markdown",
   "id": "6b3c2ee2-b26a-400e-baca-ce2c0d56c8d2",
   "metadata": {},
   "source": [
    "We can see that the first one is a function and the second one is a method. `A important thing about methods (in Python) is that the object itself is passed as the first argument to the corresponding function.`\n",
    "\n",
    "In the case of the above example, the method call **`p1.distance()`** is actually equivalent to **`Point.distance(p1)`**.\n",
    "\n",
    "Generally, when we call a method with some arguments, the corresponding class function is called by placing the method's object before the first argument. So, anything like **`obj.meth(args)`** becomes **`Class.meth(obj, args)`**. The calling process is automatic while the receiving process is not (its explicit).\n",
    "\n",
    "This is the reason the first parameter of a function in class must be the object itself. Writing this parameter as **`self`** is merely a convention. It is not a keyword and has no special meaning in Python. We could use other names (like **`this`**) but it is highly discouraged. Using names other than **`self`** is frowned upon by most developers and degrades the readability of the code (**Readability counts**)."
   ]
  },
  {
   "cell_type": "markdown",
   "id": "1c37ae56-462d-44bf-9285-8141c6f9f4fa",
   "metadata": {},
   "source": [
    "## Self Can Be Avoided\n",
    "\n",
    "By now you are clear that the object (instance) itself is passed along as the first argument, automatically. This implicit behavior can be avoided while making a **static** method. Consider the following simple example:"
   ]
  },
  {
   "cell_type": "code",
   "execution_count": 40,
   "id": "5234b67a-a521-4018-aa39-1f5eff9a4e47",
   "metadata": {},
   "outputs": [],
   "source": [
    "class A(object):\n",
    "\n",
    "    @staticmethod # function decorator\n",
    "    def stat_meth():\n",
    "        print(\"Look no self was passed\")"
   ]
  },
  {
   "cell_type": "markdown",
   "id": "195d6293-d504-4122-92c4-626af2636e76",
   "metadata": {},
   "source": [
    "Here, **`@staticmethod`** is a **[function decorator](https://github.com/milaan9/07_Python_Advanced_Topics/blob/main/004_Python_Decorators.ipynb)** that makes **`stat_meth()`** static. Let us instantiate this class and call the method."
   ]
  },
  {
   "cell_type": "code",
   "execution_count": 41,
   "id": "e6485878-d7ef-4dea-bdbe-d52d7950c8f8",
   "metadata": {},
   "outputs": [
    {
     "name": "stdout",
     "output_type": "stream",
     "text": [
      "Look no self was passed\n"
     ]
    }
   ],
   "source": [
    "a = A()\n",
    "a.stat_meth()"
   ]
  },
  {
   "cell_type": "markdown",
   "id": "a8986b75-7287-4632-b010-280d6a3f1663",
   "metadata": {},
   "source": [
    "From the above example, we can see that the implicit behavior of passing the object as the first argument was avoided while using a static method. All in all, static methods behave like the plain old functions (Since all the objects of a class share static methods)."
   ]
  },
  {
   "cell_type": "code",
   "execution_count": 42,
   "id": "b0484de3-dbaf-421b-965c-8237c4c9c6bb",
   "metadata": {},
   "outputs": [
    {
     "data": {
      "text/plain": [
       "function"
      ]
     },
     "execution_count": 42,
     "metadata": {},
     "output_type": "execute_result"
    }
   ],
   "source": [
    "type(A.stat_meth)"
   ]
  },
  {
   "cell_type": "code",
   "execution_count": 43,
   "id": "d6c87a3a-c2c4-4540-b5bd-f5dd0f664385",
   "metadata": {},
   "outputs": [
    {
     "data": {
      "text/plain": [
       "function"
      ]
     },
     "execution_count": 43,
     "metadata": {},
     "output_type": "execute_result"
    }
   ],
   "source": [
    "type(a.stat_meth)"
   ]
  },
  {
   "cell_type": "code",
   "execution_count": null,
   "id": "39803179-179f-4f24-ba32-41b9016396fb",
   "metadata": {},
   "outputs": [],
   "source": []
  },
  {
   "cell_type": "markdown",
   "id": "cf4a693c-68c0-42a1-ac16-5482558172aa",
   "metadata": {},
   "source": [
    "## Self Is Here To Stay\n",
    "\n",
    "The explicit **`self`** is not unique to Python. This idea was borrowed from **Modula-3**. Following is a use case where it becomes helpful.\n",
    "\n",
    "There is no explicit variable declaration in Python. They spring into action on the first assignment. The use of **`self`** makes it easier to distinguish between instance attributes (and methods) from local variables.\n",
    "\n",
    "In the first example, **`self.x`** is an instance attribute whereas **`x`** is a local variable. They are not the same and they lie in different namespaces.\n",
    "\n",
    "Many have proposed to make **`self`** a keyword in Python, like **`this`** in C++ and Java. This would eliminate the redundant use of explicit **`self`** from the formal parameter list in methods.\n",
    "\n",
    "While this idea seems promising, it is not going to happen. At least not in the near future. The main reason is backward compatibility. Here is a blog from the creator of Python himself explaining **[why the explicit self has to stay](http://neopythonic.blogspot.in/2008/10/why-explicit-self-has-to-stay.html)**."
   ]
  },
  {
   "cell_type": "markdown",
   "id": "1df61c59-2ce0-41a8-bd0a-816ebde9fdd1",
   "metadata": {},
   "source": [
    "## `__init__()` is not a constructor\n",
    "\n",
    "One important conclusion that can be drawn from the information so far is that the **`__init__()`** method is not a constructor. Many naive Python programmers get confused with it since **`__init__()`** gets called when we create an object.\n",
    "\n",
    "A closer inspection will reveal that the first parameter in **`__init__()`** is the object itself (object already exists). The function **`__init__()`** is called immediately **after** the object is created and is used to initialize it.\n",
    "\n",
    "Technically speaking, a constructor is a method which creates the object itself. In Python, this method is **`__new__()`**. A common signature of this method is:\n",
    "\n",
    "```python\n",
    "__new__(cls, *args, **kwargs)\n",
    "```\n",
    "\n",
    "When **`__new__()`** is called, the class itself is passed as the first argument automatically(cls).\n",
    "\n",
    "Again, like **`self`**, **`cls`** is just a naming convention. Furthermore, __*args__ and __**kwargs__ are used to take an arbitrary number of arguments during method calls in Python.\n",
    "\n",
    "Some important things to remember when implementing **`__new__()`** are:\n",
    "\n",
    "* **`__new__()`** is always called before **`__init__()`**.\n",
    "* First argument is the class itself which is passed implicitly.\n",
    "* Always return a valid object from **`__new__()`**. Not mandatory, but its main use is to create and return an object.\n",
    "\n",
    "Let's take a look at an example:"
   ]
  },
  {
   "cell_type": "code",
   "execution_count": 44,
   "id": "96c524a1-88d6-4be3-bd36-6a04acd69893",
   "metadata": {},
   "outputs": [],
   "source": [
    "class Point(object):\n",
    "\n",
    "    def __new__(cls,*args,**kwargs):\n",
    "        print(\"From new\")\n",
    "        print(cls)\n",
    "        print(args)\n",
    "        print(kwargs)\n",
    "\n",
    "        # create our object and return it\n",
    "        obj = super().__new__(cls)\n",
    "        return obj\n",
    "\n",
    "    def __init__(self,a = 0,b = 0):\n",
    "        print(\"From init\")\n",
    "        self.a = a\n",
    "        self.b = b"
   ]
  },
  {
   "cell_type": "code",
   "execution_count": 45,
   "id": "8fcf33fa-8490-49e5-a575-2a0549265422",
   "metadata": {},
   "outputs": [
    {
     "name": "stdout",
     "output_type": "stream",
     "text": [
      "From new\n",
      "<class '__main__.Point'>\n",
      "(6, 9)\n",
      "{}\n",
      "From init\n"
     ]
    }
   ],
   "source": [
    "p2 = Point(6,9)"
   ]
  },
  {
   "cell_type": "code",
   "execution_count": 47,
   "id": "52fc5672",
   "metadata": {},
   "outputs": [
    {
     "ename": "TypeError",
     "evalue": "Point.__new__() missing 1 required positional argument: 'cls'",
     "output_type": "error",
     "traceback": [
      "\u001b[0;31m---------------------------------------------------------------------------\u001b[0m",
      "\u001b[0;31mTypeError\u001b[0m                                 Traceback (most recent call last)",
      "Cell \u001b[0;32mIn[47], line 1\u001b[0m\n\u001b[0;32m----> 1\u001b[0m \u001b[43mp2\u001b[49m\u001b[38;5;241;43m.\u001b[39;49m\u001b[38;5;21;43m__new__\u001b[39;49m\u001b[43m(\u001b[49m\u001b[43m)\u001b[49m\n",
      "\u001b[0;31mTypeError\u001b[0m: Point.__new__() missing 1 required positional argument: 'cls'"
     ]
    }
   ],
   "source": [
    "p2.__new__()"
   ]
  },
  {
   "cell_type": "markdown",
   "id": "882f38a7-3ae9-4c1c-a7ba-8b3a894b55fe",
   "metadata": {},
   "source": [
    "This example illustrates that **`__new__()`** is called before **`__init__()`**. We can also see that the parameter **`cls`** in **`__new__()`** is the class itself (**`Point`**). Finally, the object is created by calling the **`__new__()`** method on **object** base class.\n",
    "\n",
    "In Python, object is the base class from which all other classes are derived. In the above example, we have done this using **[super()](https://github.com/milaan9/04_Python_Functions/blob/main/002_Python_Functions_Built_in/068_Python_super%28%29.ipynb)**."
   ]
  },
  {
   "cell_type": "markdown",
   "id": "d448bbe1-ddf8-4570-b723-669e6cfda021",
   "metadata": {},
   "source": [
    "## Use `__new__` or `__init__`?\n",
    "\n",
    "You might have seen **`__init__()`** very often but the use of **`__new__()`** is rare. This is because most of the time you don't need to override it. Generally, **`__init__()`** is used to initialize a newly created object while **`__new__()`** is used to control the way an object is created.\n",
    "\n",
    "We can also use **`__new__()`** to initialize attributes of an object, but logically it should be inside **`__init__()`**.\n",
    "\n",
    "One practical use of **`__new__()`**, however, could be to restrict the number of objects created from a class.\n",
    "\n",
    "Suppose we wanted a class **`HexPoint`** for creating instances to represent the six vertices of a square. We can inherit from our previous class **`Point`** (the second example in this article) and use **`__new__()`** to implement this restriction. Here is an example to restrict a class to have only four instances."
   ]
  },
  {
   "cell_type": "code",
   "execution_count": null,
   "id": "3b1a71db-07ec-48cb-9e1a-628cb4a53921",
   "metadata": {},
   "outputs": [],
   "source": [
    "class HexPoint(Point):\n",
    "    MAX_Inst = 6\n",
    "    Inst_created = 0\n",
    "\n",
    "    def __new__(cls,*args,**kwargs):\n",
    "        if (cls.Inst_created >= cls.MAX_Inst):\n",
    "            raise ValueError(\"Cannot create more objects\")\n",
    "        cls.Inst_created += 1\n",
    "        return super().__new__(cls)"
   ]
  },
  {
   "cell_type": "code",
   "execution_count": null,
   "id": "37fc0d0e-cc58-4d1a-a773-24db3a87373b",
   "metadata": {},
   "outputs": [],
   "source": [
    "p1 = HexPoint(0,0)\n",
    "p2 = HexPoint(1,0)\n",
    "p3 = HexPoint(1,1)\n",
    "p4 = HexPoint(0,1)\n",
    "p5 = HexPoint(2,2)\n",
    "p6 = HexPoint(2,3)"
   ]
  },
  {
   "cell_type": "code",
   "execution_count": null,
   "id": "27677ac7-fc7c-497f-b456-24cfcc7c0f21",
   "metadata": {},
   "outputs": [],
   "source": [
    "p7 = HexPoint(2,4)"
   ]
  },
  {
   "cell_type": "markdown",
   "id": "08317a73-34e8-4ae0-8f32-3bd6c7a7971c",
   "metadata": {},
   "source": [
    "# End of `Self`"
   ]
  },
  {
   "cell_type": "markdown",
   "id": "dc72295b-c2dc-4119-ab93-0b655b034dad",
   "metadata": {},
   "source": [
    "### Object Method\n",
    "\n",
    "Object Methods are functions defined inside the body of a class. They are used to define the behaviors of an object.\n",
    "\n",
    "Objects can have methods. The methods are functions which belong to the object."
   ]
  },
  {
   "cell_type": "code",
   "execution_count": null,
   "id": "d1ff3002-3936-4b55-8693-2950850a954e",
   "metadata": {},
   "outputs": [],
   "source": [
    "# Example 1:\n",
    "\n",
    "class Person:\n",
    "      def __init__(self, firstname, lastname, age, country, city):\n",
    "            self.firstname = firstname\n",
    "            self.lastname = lastname\n",
    "            self.age = age\n",
    "            self.country = country\n",
    "            self.city = city\n",
    "      def person_info(self):\n",
    "        return f'{self.firstname} {self.lastname} is {self.age} years old. He lives in {self.city}, {self.country}.'\n",
    "\n",
    "p = Person('Ehtisham', 'Sadiq', 23, 'Pakistan', 'Okara')\n",
    "print(p.person_info())"
   ]
  },
  {
   "cell_type": "code",
   "execution_count": null,
   "id": "01f47da8-9dce-4319-a5fe-729049bb56b5",
   "metadata": {},
   "outputs": [],
   "source": [
    "# Example 2: Creating Object Methods in Python``\n",
    "\n",
    "class Parrot:\n",
    "    \n",
    "    # instance attributes\n",
    "    def __init__(self, name, age):\n",
    "        self.name = name\n",
    "        self.age = age\n",
    "    \n",
    "    # instance method\n",
    "    def sing(self, song):\n",
    "        return \"{} sings {}\".format(self.name, song)\n",
    "\n",
    "    def dance(self):\n",
    "        return \"{} is now dancing\".format(self.name)\n",
    "\n",
    "# instantiate the object\n",
    "blu = Parrot(\"Blu\", 10)\n",
    "\n",
    "# call our instance methods\n",
    "print(blu.sing(\"'Happy'\"))\n",
    "print(blu.dance())"
   ]
  },
  {
   "cell_type": "markdown",
   "id": "0f30f10c-a97e-4196-b01c-12a836c9f0f1",
   "metadata": {},
   "source": [
    "**Explanation**:\n",
    "\n",
    "In the above program, we define two methods i.e **`sing()`** and **`dance()`**. These are called instance methods because they are called on an instance object i.e **`blu`**."
   ]
  },
  {
   "cell_type": "markdown",
   "id": "cb6dfff3-2117-4629-a35f-328ccd2c191b",
   "metadata": {},
   "source": [
    "## Object Default Methods\n",
    "\n",
    "Sometimes, you may want to have a default values for your object methods. If we give default values for the parameters in the constructor, we can avoid errors when we call or instantiate our class without parameters. Let's see how it looks:"
   ]
  },
  {
   "cell_type": "code",
   "execution_count": 2,
   "id": "e4349438-34df-407c-82e4-53ee067e1d56",
   "metadata": {},
   "outputs": [
    {
     "name": "stdout",
     "output_type": "stream",
     "text": [
      "Ehtisham Sadiq is 23 years old. He lives in Okara, Pakistan.\n",
      "Ali Sadiq is 20 years old. He lives in Okara, Pakistan.\n"
     ]
    }
   ],
   "source": [
    "class Person:\n",
    "      def __init__(self, firstname='Ehtisham', lastname='Sadiq', age=23, country='Pakistan', city='Okara'):\n",
    "            self.firstname = firstname\n",
    "            self.lastname = lastname\n",
    "            self.age = age\n",
    "            self.country = country\n",
    "            self.city = city\n",
    "\n",
    "      def person_info(self):\n",
    "        return f'{self.firstname} {self.lastname} is {self.age} years old. He lives in {self.city}, {self.country}.'\n",
    "\n",
    "p1 = Person()\n",
    "print(p1.person_info())\n",
    "p2 = Person('Ali', 'Sadiq', 20, 'Pakistan', 'Okara')\n",
    "print(p2.person_info())"
   ]
  },
  {
   "cell_type": "markdown",
   "id": "13401bf9-44f0-4986-a82d-5663e48fb882",
   "metadata": {},
   "source": [
    "## Method to Modify Class Default Values\n",
    "\n",
    "In the example below, the **`Person`** class, all the constructor parameters have default values. In addition to that, we have skills parameter, which we can access using a method. Let us create **`add_skill`** method to add skills to the skills list."
   ]
  },
  {
   "cell_type": "code",
   "execution_count": 3,
   "id": "4934289e-fb6f-49e3-8469-3890cd710484",
   "metadata": {},
   "outputs": [
    {
     "name": "stdout",
     "output_type": "stream",
     "text": [
      "Ehtisham Sadiq is 23 years old. He lives in London, Pakistan.\n",
      "Ali Sadiq is 20 years old. He lives in Okara, Pakistan.\n",
      "['Python', 'MATLAB', 'R']\n",
      "[]\n"
     ]
    }
   ],
   "source": [
    "class Person:\n",
    "      def __init__(self, firstname='Ehtisham', lastname='Sadiq', age=23, country='Pakistan', city='London'):\n",
    "            self.firstname = firstname\n",
    "            self.lastname = lastname\n",
    "            self.age = age\n",
    "            self.country = country\n",
    "            self.city = city\n",
    "            self.skills = []\n",
    "\n",
    "      def person_info(self):\n",
    "        return f'{self.firstname} {self.lastname} is {self.age} years old. He lives in {self.city}, {self.country}.'\n",
    "      def add_skill(self, skill):\n",
    "            self.skills.append(skill)\n",
    "\n",
    "p1 = Person()\n",
    "print(p1.person_info())\n",
    "p1.add_skill('Python')\n",
    "p1.add_skill('MATLAB')\n",
    "p1.add_skill('R')\n",
    "p2 = Person('Ali', 'Sadiq', 20, 'Pakistan', 'Okara')\n",
    "print(p2.person_info())\n",
    "print(p1.skills)\n",
    "print(p2.skills)"
   ]
  },
  {
   "cell_type": "markdown",
   "id": "8dc45fec-b2d8-4ed7-b3e7-aa5fae461065",
   "metadata": {},
   "source": [
    "## Inheritance\n",
    "\n",
    "In Python, **[inheritance]** is the process of inheriting the properties of the base class (or parent class) into a derived class (or child class).\n",
    "\n",
    "In an Object-oriented programming language, inheritance is an important aspect. Using inheritance we can reuse parent class code. Inheritance allows us to define a class that inherits all the methods and properties from the parent class. The parent class or super or base class is the class that gives all the methods and properties. The child class is the class that inherits from another or parent class.\n",
    "\n",
    "In inheritance, the child class acquires and accesses all the data members, properties, and functions from the parent class. Also, a child class can provide its specific implementation to the functions of the parent class.\n",
    "\n",
    "### Use of inheritance\n",
    "\n",
    "The main purpose of inheritance is the reusability of code because we can use the existing class to create a new class instead of creating it from scratch.\n",
    "\n",
    "**Syntax:**\n",
    "\n",
    "```python\n",
    "class BaseClass:\n",
    "    Body of base class\n",
    "class DerivedClass(BaseClass):\n",
    "    Body of derived class\n",
    "```"
   ]
  },
  {
   "cell_type": "code",
   "execution_count": 4,
   "id": "6efb3578-959e-4d8c-a00f-69ddb2406eb7",
   "metadata": {},
   "outputs": [
    {
     "name": "stdout",
     "output_type": "stream",
     "text": [
      "This is Parent class\n",
      "This is Child class\n"
     ]
    }
   ],
   "source": [
    "# Example 1: Use of Inheritance in Python\n",
    "\n",
    "class ClassOne:              # Base class\n",
    "    def func1(self):\n",
    "        print('This is Parent class')\n",
    "\n",
    "class ClassTwo(ClassOne):    # Derived class\n",
    "    def func2(self):\n",
    "        print('This is Child class')\n",
    "\n",
    "obj = ClassTwo()\n",
    "obj.func1()\n",
    "obj.func2()"
   ]
  },
  {
   "cell_type": "markdown",
   "id": "14d02fc5-98f1-4a41-9b27-a2f2a407f55f",
   "metadata": {},
   "source": [
    "Let us create a student class by inheriting from **`Person`** class."
   ]
  },
  {
   "cell_type": "code",
   "execution_count": 5,
   "id": "fe72d3c1-921f-4147-ba75-13689f3012ba",
   "metadata": {},
   "outputs": [
    {
     "name": "stdout",
     "output_type": "stream",
     "text": [
      "Ehtisham Sadiq is 33 years old. He lives in Okara, Pakistan.\n",
      "['HTML', 'CSS', 'JavaScript']\n",
      "Ali Sadiq is 20 years old. He lives in Okara, Pakistan.\n",
      "['Organizing', 'Marketing', 'Digital Marketing']\n"
     ]
    }
   ],
   "source": [
    "# Example 2: Use of Inheritance in Python\n",
    "\n",
    "class Student(Person):\n",
    "    pass\n",
    "\n",
    "s1 = Student('Ehtisham', 'Sadiq', 33, 'Pakistan', 'Okara')\n",
    "s2 = Student('Ali', 'Sadiq', 20, 'Pakistan', 'Okara')\n",
    "print(s1.person_info())\n",
    "s1.add_skill('HTML')\n",
    "s1.add_skill('CSS')\n",
    "s1.add_skill('JavaScript')\n",
    "print(s1.skills)\n",
    "\n",
    "print(s2.person_info())\n",
    "s2.add_skill('Organizing')\n",
    "s2.add_skill('Marketing')\n",
    "s2.add_skill('Digital Marketing')\n",
    "print(s2.skills)"
   ]
  },
  {
   "cell_type": "markdown",
   "id": "f65deaf5-e847-4081-abf6-9ff01dcc432c",
   "metadata": {},
   "source": [
    "**Exaplanation:**\n",
    "\n",
    "We did not call the **`__init__()`** constructor in the child class. If we didn't call it then we can still access all the properties from the parent. But if we do call the constructor we can access the parent properties by calling **`super()`**.  \n",
    "We can add a new method to the child or we can override the parent class methods by creating the same method name in the child class. When we add the **`__init__()`** function, the child class will no longer inherit the parent's **`__init__()`** function."
   ]
  },
  {
   "cell_type": "code",
   "execution_count": null,
   "id": "8c9b7910-68b7-47d4-b21d-61ad5ec0a664",
   "metadata": {},
   "outputs": [],
   "source": []
  },
  {
   "cell_type": "markdown",
   "id": "a4753428-86b3-4458-8d99-d435b62da646",
   "metadata": {},
   "source": [
    "### Overriding parent method"
   ]
  },
  {
   "cell_type": "code",
   "execution_count": 6,
   "id": "33f9384b-b916-4b16-a8ed-4756cfeb3b11",
   "metadata": {},
   "outputs": [
    {
     "name": "stdout",
     "output_type": "stream",
     "text": [
      "Ehtisham Sadiq is 33 years old. He lives in Okara, Pakistan.\n",
      "['HTML', 'CSS', 'JavaScript']\n",
      "Ayesha Sadiq is 28 years old. She lives in Okara, Pakistan.\n",
      "['Organizing', 'Marketing', 'Digital Marketing']\n"
     ]
    }
   ],
   "source": [
    "# Example 2: Overriding parent method from above example\n",
    "\n",
    "class Student(Person):\n",
    "    def __init__ (self, firstname='Ali', lastname='Sadiq',age=96, country='Pakistan', city='Okara', gender='male'):\n",
    "        self.gender = gender\n",
    "        super().__init__(firstname, lastname,age, country, city)\n",
    "        \n",
    "    def person_info(self):\n",
    "        gender = 'He' if self.gender =='male' else 'She'\n",
    "        return f'{self.firstname} {self.lastname} is {self.age} years old. {gender} lives in {self.city}, {self.country}.'\n",
    "\n",
    "s1 = Student('Ehtisham', 'Sadiq', 33, 'Pakistan', 'Okara','male')\n",
    "s2 = Student('Ayesha', 'Sadiq', 28, 'Pakistan', 'Okara','female')\n",
    "print(s1.person_info())\n",
    "s1.add_skill('HTML')\n",
    "s1.add_skill('CSS')\n",
    "s1.add_skill('JavaScript')\n",
    "print(s1.skills)\n",
    "\n",
    "print(s2.person_info())\n",
    "s2.add_skill('Organizing')\n",
    "s2.add_skill('Marketing')\n",
    "s2.add_skill('Digital Marketing')\n",
    "print(s2.skills)"
   ]
  },
  {
   "cell_type": "markdown",
   "id": "b5c904c0-1f7f-41ca-80e1-77642896cb20",
   "metadata": {},
   "source": [
    "**Exaplanation**:\n",
    "\n",
    "We can use **`super()`** built-in function or the parent name Person to automatically inherit the methods and properties from its parent. In the example above we override the parent method. The child method has a different feature, it can identify, if the gender is male or female and assign the proper pronoun(He/She)."
   ]
  },
  {
   "cell_type": "code",
   "execution_count": 7,
   "id": "56765b8e-1fce-45a7-aaf3-52b47df1bd26",
   "metadata": {},
   "outputs": [],
   "source": [
    "# Example 3: Use of Inheritance in Python\n",
    "\n",
    "# parent class\n",
    "class Bird:   \n",
    "    def __init__(self):\n",
    "        print(\"Bird is ready\")\n",
    "\n",
    "    def whoisThis(self):\n",
    "        print(\"Bird\")\n",
    "\n",
    "    def swim(self):\n",
    "        print(\"Swim faster\")\n",
    "\n",
    "# child class\n",
    "class Penguin(Bird):\n",
    "    def __init__(self):\n",
    "        # call super() function\n",
    "        super().__init__()\n",
    "        print(\"Penguin is ready\")\n",
    "\n",
    "    def whoisThis(self):\n",
    "        print(\"Penguin\")\n",
    "\n",
    "    def run(self):\n",
    "        print(\"Run faster\")"
   ]
  },
  {
   "cell_type": "code",
   "execution_count": 8,
   "id": "313c1565-a4a8-4432-9ed5-c20dc6681a5d",
   "metadata": {},
   "outputs": [
    {
     "name": "stdout",
     "output_type": "stream",
     "text": [
      "Bird is ready\n",
      "Penguin is ready\n",
      "Penguin\n",
      "Swim faster\n",
      "Run faster\n"
     ]
    }
   ],
   "source": [
    "peggy = Penguin()\n",
    "peggy.whoisThis()\n",
    "peggy.swim()\n",
    "peggy.run()"
   ]
  },
  {
   "cell_type": "markdown",
   "id": "2dce2859-5bae-4a99-9557-ef20337cf39d",
   "metadata": {},
   "source": [
    "**Exaplanation**:\n",
    "\n",
    "In the above program, we created two classes i.e. **`Bird`** (parent class) and **`Penguin`** (child class). The child class inherits the functions of parent class. We can see this from the **`swim()`** method.\n",
    "\n",
    "Again, the child class modified the behavior of the parent class. We can see this from the **`whoisThis()`** method. Furthermore, we extend the functions of the parent class, by creating a new **`run()`** method.\n",
    "\n",
    "Additionally, we use the **`super()`** function inside the **`__init__()`** method. This allows us to run the **`__init__()`** method of the parent class inside the child class."
   ]
  },
  {
   "cell_type": "markdown",
   "id": "e889e1c0-fbda-4b95-a7ab-2b828b59dbb3",
   "metadata": {},
   "source": [
    "## Encapsulation\n",
    "\n",
    "n Python, encapsulation is a method of wrapping data and functions into a single entity. For example, A class encapsulates all the data (methods and variables). Encapsulation means the internal representation of an object is generally hidden from outside of the object’s definition.\n",
    "\n",
    "<div>\n",
    "<img src=\"images/encap.png\" width=\"300\"/>\n",
    "</div>\n",
    "\n",
    "Using OOP in Python, we can restrict access to methods and variables. This prevents data from direct modification which is called encapsulation. In Python, we denote private attributes using underscore as the prefix i.e single **`_`** or double **`__`**.\n",
    "\n",
    "### Need of Encapsulation\n",
    "\n",
    "Encapsulation acts as a protective layer. We can restrict access to methods and variables from outside, and It can prevent the data from being modified by accidental or unauthorized modification. Encapsulation provides security by hiding the data from the outside world.\n",
    "\n",
    "In Python, we do not have access modifiers directly, such as public, private, and protected. But we can achieve encapsulation by using single prefix underscore and double underscore to control access of variable and method within the Python program."
   ]
  },
  {
   "cell_type": "code",
   "execution_count": 9,
   "id": "6244f955-34d1-4621-86a5-4597cf8446ca",
   "metadata": {},
   "outputs": [
    {
     "name": "stdout",
     "output_type": "stream",
     "text": [
      "Selling Price: 900\n",
      "Selling Price: 900\n"
     ]
    }
   ],
   "source": [
    "# Example 1: Data Encapsulation in Python\n",
    "\n",
    "class Computer:\n",
    "\n",
    "    def __init__(self):\n",
    "        self.__maxprice = 900\n",
    "\n",
    "    def sell(self):\n",
    "        print(\"Selling Price: {}\".format(self.__maxprice))\n",
    "\n",
    "    def setMaxPrice(self, price):\n",
    "        self.__maxprice = price\n",
    "\n",
    "c = Computer()\n",
    "c.sell()\n",
    "\n",
    "# change the price\n",
    "c.__maxprice = 1000\n",
    "c.sell()"
   ]
  },
  {
   "cell_type": "code",
   "execution_count": 10,
   "id": "2fc9ec48",
   "metadata": {},
   "outputs": [
    {
     "name": "stdout",
     "output_type": "stream",
     "text": [
      "Selling Price: 1000\n"
     ]
    }
   ],
   "source": [
    "# using setter function\n",
    "c.setMaxPrice(1000)\n",
    "c.sell()"
   ]
  },
  {
   "cell_type": "markdown",
   "id": "871c37a8-da82-4ba0-93ac-99b13042a625",
   "metadata": {},
   "source": [
    "**Explanation**:\n",
    "\n",
    "In the above program, we defined a **`Computer`** class.\n",
    "\n",
    "We used **`__init__()`** method to store the maximum selling price of **`Computer`**. We tried to modify the price. However, we can't change it because Python treats the **`__maxprice`** as private attributes.\n",
    "\n",
    "As shown, to change the value, we have to use a setter function i.e **`setMaxPrice()`** which takes price as a parameter."
   ]
  },
  {
   "cell_type": "code",
   "execution_count": null,
   "id": "b573fa50-c932-492e-ba93-71cd8680158f",
   "metadata": {},
   "outputs": [],
   "source": []
  },
  {
   "cell_type": "code",
   "execution_count": 12,
   "id": "cb65b294",
   "metadata": {},
   "outputs": [
    {
     "name": "stdout",
     "output_type": "stream",
     "text": [
      "Name is  Bella and salary is 60000\n",
      "Bella\n",
      "Name is  Bella and salary is 60000\n",
      "None\n"
     ]
    },
    {
     "ename": "AttributeError",
     "evalue": "'Employee' object has no attribute '__salary'",
     "output_type": "error",
     "traceback": [
      "\u001b[0;31m---------------------------------------------------------------------------\u001b[0m",
      "\u001b[0;31mAttributeError\u001b[0m                            Traceback (most recent call last)",
      "Cell \u001b[0;32mIn[12], line 16\u001b[0m\n\u001b[1;32m     14\u001b[0m \u001b[38;5;28mprint\u001b[39m(E\u001b[38;5;241m.\u001b[39mname)\n\u001b[1;32m     15\u001b[0m \u001b[38;5;28mprint\u001b[39m(E\u001b[38;5;241m.\u001b[39mshow())\n\u001b[0;32m---> 16\u001b[0m \u001b[38;5;28mprint\u001b[39m(\u001b[43mE\u001b[49m\u001b[38;5;241;43m.\u001b[39;49m\u001b[43m__salary\u001b[49m)\n\u001b[1;32m     18\u001b[0m \u001b[38;5;66;03m# AttributeError: 'Employee' object has no attribute '__salary'\u001b[39;00m\n",
      "\u001b[0;31mAttributeError\u001b[0m: 'Employee' object has no attribute '__salary'"
     ]
    }
   ],
   "source": [
    "# Example 2: Data Encapsulation in Python\n",
    "\n",
    "class Employee:\n",
    "    def __init__(self, name, salary):\n",
    "        self.name = name\n",
    "        self.__salary = salary\n",
    "\n",
    "    def show(self):\n",
    "        print(\"Name is \", self.name, \"and salary is\", self.__salary)\n",
    "\n",
    "# Outside class\n",
    "E = Employee(\"Bella\", 60000)\n",
    "E.show()\n",
    "print(E.name)\n",
    "print(E.show())\n",
    "print(E.__salary)\n",
    "\n",
    "# AttributeError: 'Employee' object has no attribute '__salary'"
   ]
  },
  {
   "cell_type": "markdown",
   "id": "6c1b607b",
   "metadata": {},
   "source": [
    "**Explanation**:\n",
    "\n",
    "In the above example, we create a class called **`Employee`**. Within that class, we declare two variables **`name`** and **`__salary`**. We can observe that the name variable is accessible, but **`__salary`** is the **private variable**. We cannot access it from outside of class. If we try to access it, we will get an error."
   ]
  },
  {
   "cell_type": "code",
   "execution_count": null,
   "id": "5c96f44c",
   "metadata": {},
   "outputs": [],
   "source": []
  },
  {
   "cell_type": "markdown",
   "id": "fc51e9c7",
   "metadata": {},
   "source": [
    "## Polymorphism\n",
    "\n",
    "Polymorphism is based on the greek words **Poly** (many) and **morphism** (forms). We will create a structure that can take or use many forms of objects.\n",
    "\n",
    "Polymorphism is an ability (in OOP) to use a common interface for multiple forms (data types).\n",
    "\n",
    "**Example 1:** The student can act as a student in college, act as a player on the ground, and as a daughter/brother in the home. \n",
    "\n",
    "**Example 2:** In the programming language, the **`+`** operator, acts as a concatenation and arithmetic addition.\n",
    "\n",
    "**Example 3:** If we need to color a shape, there are multiple shape options (rectangle, square, circle). However we could use the same method to color any shape. \n",
    "\n",
    "<div>\n",
    "<img src=\"images/polymor.png\" width=\"400\"/>\n",
    "</div>\n",
    "\n",
    "In Python, polymorphism allows us to define the child class methods with the same name as defined in the parent class."
   ]
  },
  {
   "cell_type": "code",
   "execution_count": 13,
   "id": "63acb36d",
   "metadata": {},
   "outputs": [
    {
     "name": "stdout",
     "output_type": "stream",
     "text": [
      "Parrot can fly\n",
      "Penguin can't fly\n"
     ]
    }
   ],
   "source": [
    "# Example 1: Using Polymorphism in Python\n",
    "\n",
    "class Parrot:\n",
    "    def fly(self):\n",
    "        print(\"Parrot can fly\")\n",
    "    \n",
    "    def swim(self):\n",
    "        print(\"Parrot can't swim\")\n",
    "\n",
    "class Penguin:\n",
    "    def fly(self):\n",
    "        print(\"Penguin can't fly\")\n",
    "    \n",
    "    def swim(self):\n",
    "        print(\"Penguin can swim\")\n",
    "\n",
    "# common interface\n",
    "def flying_test(bird):\n",
    "    bird.fly()\n",
    "\n",
    "#instantiate objects\n",
    "blu = Parrot()\n",
    "peggy = Penguin()\n",
    "\n",
    "# passing the object\n",
    "flying_test(blu)\n",
    "flying_test(peggy)"
   ]
  },
  {
   "cell_type": "markdown",
   "id": "c141d4a2",
   "metadata": {},
   "source": [
    "**Exaplanation**:\n",
    "\n",
    "In the above program, we defined two classes **`Parrot`** and **`Penguin`**. Each of them have a common **`fly()`** method. However, their functions are different.\n",
    "\n",
    "To use polymorphism, we created a common interface i.e **`flying_test()`** function that takes any object and calls the object's **`fly()`** method. Thus, when we passed the **`blu`** and **`peggy`** objects in the **`flying_test()`** function, it ran effectively."
   ]
  },
  {
   "cell_type": "code",
   "execution_count": 14,
   "id": "f6aaf21a",
   "metadata": {},
   "outputs": [
    {
     "name": "stdout",
     "output_type": "stream",
     "text": [
      "Area of circle: 254.34\n",
      "Area of Rectangle: 54\n"
     ]
    }
   ],
   "source": [
    "# Example 2: Using Polymorphism in Python\n",
    "\n",
    "class Circle:\n",
    "    pi = 3.14\n",
    "\n",
    "    def __init__(self, redius):\n",
    "        self.radius = redius\n",
    "\n",
    "    def calculate_area(self):\n",
    "        print(\"Area of circle:\", self.pi * self.radius * self.radius)\n",
    "\n",
    "class Rectangle:\n",
    "    def __init__(self, length, width):\n",
    "        self.length = length\n",
    "        self.width = width\n",
    "\n",
    "    def calculate_area(self):\n",
    "        print(\"Area of Rectangle:\", self.length * self.width)\n",
    "\n",
    "cir = Circle(9)\n",
    "rect = Rectangle(9, 6)\n",
    "cir.calculate_area()   # Output Area of circle: 254.34\n",
    "\n",
    "rect.calculate_area()  # Output Area od Rectangle: 54"
   ]
  },
  {
   "cell_type": "markdown",
   "id": "3542e634",
   "metadata": {},
   "source": [
    "**Exaplanation**:\n",
    "\n",
    "In the above example, we created two classes called **`Circle`** and **`Rectangle`**. In both classes, we created the same method with the name **`calculate_area`**. This method acts differently in both classes. In the case of the **`Circle`** class, it calculates the area of the circle, whereas, in the case of a **`Rectangle`** class, it calculates the area of a rectangle."
   ]
  },
  {
   "cell_type": "markdown",
   "id": "e0c7339d",
   "metadata": {},
   "source": [
    "## Key Points to Remember:\n",
    "* Object-Oriented Programming makes the program easy to understand as well as efficient.\n",
    "* Since the class is sharable, the code can be reused.\n",
    "* Data is safe and secure with data abstraction.\n",
    "* Polymorphism allows the same interface for different objects, so programmers can write efficient code."
   ]
  },
  {
   "cell_type": "code",
   "execution_count": null,
   "id": "1c655fa6",
   "metadata": {},
   "outputs": [],
   "source": []
  },
  {
   "cell_type": "code",
   "execution_count": null,
   "id": "47100f5b",
   "metadata": {},
   "outputs": [],
   "source": []
  },
  {
   "cell_type": "code",
   "execution_count": 5,
   "id": "e402fc29-d46e-4b20-b456-69a642f1d504",
   "metadata": {},
   "outputs": [
    {
     "data": {
      "text/html": [
       "\n",
       "    <style>\n",
       "        body {\n",
       "            background-color: #f2fff2;\n",
       "        }\n",
       "        h1 {\n",
       "            text-align: center;\n",
       "            font-weight: bold;\n",
       "            font-size: 36px;\n",
       "            color: #4295F4;\n",
       "            text-decoration: underline;\n",
       "            padding-top: 15px;\n",
       "        }\n",
       "        \n",
       "        h2 {\n",
       "            text-align: left;\n",
       "            font-weight: bold;\n",
       "            font-size: 30px;\n",
       "            color: #4A000A;\n",
       "            text-decoration: underline;\n",
       "            padding-top: 10px;\n",
       "        }\n",
       "        \n",
       "        h3 {\n",
       "            text-align: left;\n",
       "            font-weight: bold;\n",
       "            font-size: 30px;\n",
       "            color: #f0081e;\n",
       "            text-decoration: underline;\n",
       "            padding-top: 5px;\n",
       "        }\n",
       "\n",
       "        \n",
       "        p {\n",
       "            text-align: center;\n",
       "            font-size: 12 px;\n",
       "            color: #0B9923;\n",
       "        }\n",
       "    </style>\n",
       "\n",
       "<h1>Hello</h1>\n",
       "<p>Hello World</p>\n",
       "<h2> Hello</h2>\n",
       "<h3> World </h3>\n"
      ],
      "text/plain": [
       "<IPython.core.display.HTML object>"
      ]
     },
     "execution_count": 5,
     "metadata": {},
     "output_type": "execute_result"
    }
   ],
   "source": [
    "from IPython.core.display import HTML\n",
    "\n",
    "style = \"\"\"\n",
    "    <style>\n",
    "        body {\n",
    "            background-color: #f2fff2;\n",
    "        }\n",
    "        h1 {\n",
    "            text-align: center;\n",
    "            font-weight: bold;\n",
    "            font-size: 36px;\n",
    "            color: #4295F4;\n",
    "            text-decoration: underline;\n",
    "            padding-top: 15px;\n",
    "        }\n",
    "        \n",
    "        h2 {\n",
    "            text-align: left;\n",
    "            font-weight: bold;\n",
    "            font-size: 30px;\n",
    "            color: #4A000A;\n",
    "            text-decoration: underline;\n",
    "            padding-top: 10px;\n",
    "        }\n",
    "        \n",
    "        h3 {\n",
    "            text-align: left;\n",
    "            font-weight: bold;\n",
    "            font-size: 30px;\n",
    "            color: #f0081e;\n",
    "            text-decoration: underline;\n",
    "            padding-top: 5px;\n",
    "        }\n",
    "\n",
    "        \n",
    "        p {\n",
    "            text-align: center;\n",
    "            font-size: 12 px;\n",
    "            color: #0B9923;\n",
    "        }\n",
    "    </style>\n",
    "\"\"\"\n",
    "\n",
    "html_content = \"\"\"\n",
    "<h1>Hello</h1>\n",
    "<p>Hello World</p>\n",
    "<h2> Hello</h2>\n",
    "<h3> World </h3>\n",
    "\"\"\"\n",
    "\n",
    "HTML(style + html_content)"
   ]
  },
  {
   "cell_type": "code",
   "execution_count": null,
   "id": "65f3dce8-195f-4320-96db-577f4ef6e1ae",
   "metadata": {},
   "outputs": [],
   "source": []
  }
 ],
 "metadata": {
  "kernelspec": {
   "display_name": "Python 3 (ipykernel)",
   "language": "python",
   "name": "python3"
  },
  "language_info": {
   "codemirror_mode": {
    "name": "ipython",
    "version": 3
   },
   "file_extension": ".py",
   "mimetype": "text/x-python",
   "name": "python",
   "nbconvert_exporter": "python",
   "pygments_lexer": "ipython3",
   "version": "3.11.7"
  }
 },
 "nbformat": 4,
 "nbformat_minor": 5
}
